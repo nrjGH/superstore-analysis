{
  "nbformat": 4,
  "nbformat_minor": 0,
  "metadata": {
    "colab": {
      "provenance": []
    },
    "kernelspec": {
      "name": "python3",
      "display_name": "Python 3"
    },
    "language_info": {
      "name": "python"
    }
  },
  "cells": [
    {
      "cell_type": "code",
      "execution_count": 2,
      "metadata": {
        "colab": {
          "base_uri": "https://localhost:8080/",
          "height": 1000
        },
        "id": "1qe0D5fDK8n9",
        "outputId": "d463d4fb-9aac-4784-9cb3-f4ebb9f0fdb7"
      },
      "outputs": [
        {
          "output_type": "stream",
          "name": "stdout",
          "text": [
            "<class 'pandas.core.frame.DataFrame'>\n",
            "RangeIndex: 9994 entries, 0 to 9993\n",
            "Data columns (total 21 columns):\n",
            " #   Column          Non-Null Count  Dtype  \n",
            "---  ------          --------------  -----  \n",
            " 0   Row ID          9994 non-null   int64  \n",
            " 1   Order ID        9994 non-null   object \n",
            " 2   Order Date      9994 non-null   object \n",
            " 3   Ship Date       9994 non-null   object \n",
            " 4   Ship Mode       9994 non-null   object \n",
            " 5   Customer ID     9994 non-null   object \n",
            " 6   Customer Name   9994 non-null   object \n",
            " 7   Segment         9994 non-null   object \n",
            " 8   Country/Region  9994 non-null   object \n",
            " 9   City            9994 non-null   object \n",
            " 10  State           9994 non-null   object \n",
            " 11  Postal Code     9987 non-null   float64\n",
            " 12  Region          9994 non-null   object \n",
            " 13  Product ID      9994 non-null   object \n",
            " 14  Category        9994 non-null   object \n",
            " 15  Sub-Category    9994 non-null   object \n",
            " 16  Product Name    9994 non-null   object \n",
            " 17  Sales           9994 non-null   float64\n",
            " 18  Quantity        9994 non-null   int64  \n",
            " 19  Discount        9994 non-null   float64\n",
            " 20  Profit          9994 non-null   float64\n",
            "dtypes: float64(4), int64(2), object(15)\n",
            "memory usage: 1.6+ MB\n"
          ]
        },
        {
          "output_type": "execute_result",
          "data": {
            "text/plain": [
              "   Row ID        Order ID  Order Date   Ship Date       Ship Mode Customer ID  \\\n",
              "0       1  CA-2020-152156   3/22/2022  11/11/2020    Second Class    CG-12520   \n",
              "1       2  CA-2020-152156   11/8/2020  11/11/2020    Second Class    CG-12520   \n",
              "2       3  CA-2020-138688   6/12/2020   6/16/2020    Second Class    DV-13045   \n",
              "3       4  US-2019-108966  10/11/2019  10/18/2019  Standard Class    SO-20335   \n",
              "4       5  US-2019-108966  10/11/2019  10/18/2019  Standard Class    SO-20335   \n",
              "\n",
              "     Customer Name    Segment Country/Region             City  ...  \\\n",
              "0      Claire Gute   Consumer  United States        Henderson  ...   \n",
              "1      Claire Gute   Consumer  United States        Henderson  ...   \n",
              "2  Darrin Van Huff  Corporate  United States      Los Angeles  ...   \n",
              "3   Sean O'Donnell   Consumer  United States  Fort Lauderdale  ...   \n",
              "4   Sean O'Donnell   Consumer  United States  Fort Lauderdale  ...   \n",
              "\n",
              "  Postal Code  Region       Product ID         Category Sub-Category  \\\n",
              "0     42420.0    West  FUR-BO-10001798        Furniture    Bookcases   \n",
              "1     42420.0    West  FUR-CH-10000454        Furniture    Fasteners   \n",
              "2     90036.0    West  OFF-LA-10000240  Office Supplies    Fasteners   \n",
              "3     33311.0    West  FUR-TA-10000577        Furniture    Fasteners   \n",
              "4     33311.0    West  OFF-ST-10000760  Office Supplies    Fasteners   \n",
              "\n",
              "                                        Product Name     Sales  Quantity  \\\n",
              "0                  Bush Somerset Collection Bookcase  261.9600         2   \n",
              "1  Hon Deluxe Fabric Upholstered Stacking Chairs,...  731.9400         3   \n",
              "2  Self-Adhesive Address Labels for Typewriters b...   14.6200         2   \n",
              "3      Bretford CR4500 Series Slim Rectangular Table  957.5775         5   \n",
              "4                     Eldon Fold 'N Roll Cart System   22.3680         2   \n",
              "\n",
              "   Discount    Profit  \n",
              "0      0.00   41.9136  \n",
              "1      0.00  219.5820  \n",
              "2      0.00    6.8714  \n",
              "3      0.45 -383.0310  \n",
              "4      0.20    2.5164  \n",
              "\n",
              "[5 rows x 21 columns]"
            ],
            "text/html": [
              "\n",
              "  <div id=\"df-9be0735a-4f8c-45f0-bced-396e3552698f\" class=\"colab-df-container\">\n",
              "    <div>\n",
              "<style scoped>\n",
              "    .dataframe tbody tr th:only-of-type {\n",
              "        vertical-align: middle;\n",
              "    }\n",
              "\n",
              "    .dataframe tbody tr th {\n",
              "        vertical-align: top;\n",
              "    }\n",
              "\n",
              "    .dataframe thead th {\n",
              "        text-align: right;\n",
              "    }\n",
              "</style>\n",
              "<table border=\"1\" class=\"dataframe\">\n",
              "  <thead>\n",
              "    <tr style=\"text-align: right;\">\n",
              "      <th></th>\n",
              "      <th>Row ID</th>\n",
              "      <th>Order ID</th>\n",
              "      <th>Order Date</th>\n",
              "      <th>Ship Date</th>\n",
              "      <th>Ship Mode</th>\n",
              "      <th>Customer ID</th>\n",
              "      <th>Customer Name</th>\n",
              "      <th>Segment</th>\n",
              "      <th>Country/Region</th>\n",
              "      <th>City</th>\n",
              "      <th>...</th>\n",
              "      <th>Postal Code</th>\n",
              "      <th>Region</th>\n",
              "      <th>Product ID</th>\n",
              "      <th>Category</th>\n",
              "      <th>Sub-Category</th>\n",
              "      <th>Product Name</th>\n",
              "      <th>Sales</th>\n",
              "      <th>Quantity</th>\n",
              "      <th>Discount</th>\n",
              "      <th>Profit</th>\n",
              "    </tr>\n",
              "  </thead>\n",
              "  <tbody>\n",
              "    <tr>\n",
              "      <th>0</th>\n",
              "      <td>1</td>\n",
              "      <td>CA-2020-152156</td>\n",
              "      <td>3/22/2022</td>\n",
              "      <td>11/11/2020</td>\n",
              "      <td>Second Class</td>\n",
              "      <td>CG-12520</td>\n",
              "      <td>Claire Gute</td>\n",
              "      <td>Consumer</td>\n",
              "      <td>United States</td>\n",
              "      <td>Henderson</td>\n",
              "      <td>...</td>\n",
              "      <td>42420.0</td>\n",
              "      <td>West</td>\n",
              "      <td>FUR-BO-10001798</td>\n",
              "      <td>Furniture</td>\n",
              "      <td>Bookcases</td>\n",
              "      <td>Bush Somerset Collection Bookcase</td>\n",
              "      <td>261.9600</td>\n",
              "      <td>2</td>\n",
              "      <td>0.00</td>\n",
              "      <td>41.9136</td>\n",
              "    </tr>\n",
              "    <tr>\n",
              "      <th>1</th>\n",
              "      <td>2</td>\n",
              "      <td>CA-2020-152156</td>\n",
              "      <td>11/8/2020</td>\n",
              "      <td>11/11/2020</td>\n",
              "      <td>Second Class</td>\n",
              "      <td>CG-12520</td>\n",
              "      <td>Claire Gute</td>\n",
              "      <td>Consumer</td>\n",
              "      <td>United States</td>\n",
              "      <td>Henderson</td>\n",
              "      <td>...</td>\n",
              "      <td>42420.0</td>\n",
              "      <td>West</td>\n",
              "      <td>FUR-CH-10000454</td>\n",
              "      <td>Furniture</td>\n",
              "      <td>Fasteners</td>\n",
              "      <td>Hon Deluxe Fabric Upholstered Stacking Chairs,...</td>\n",
              "      <td>731.9400</td>\n",
              "      <td>3</td>\n",
              "      <td>0.00</td>\n",
              "      <td>219.5820</td>\n",
              "    </tr>\n",
              "    <tr>\n",
              "      <th>2</th>\n",
              "      <td>3</td>\n",
              "      <td>CA-2020-138688</td>\n",
              "      <td>6/12/2020</td>\n",
              "      <td>6/16/2020</td>\n",
              "      <td>Second Class</td>\n",
              "      <td>DV-13045</td>\n",
              "      <td>Darrin Van Huff</td>\n",
              "      <td>Corporate</td>\n",
              "      <td>United States</td>\n",
              "      <td>Los Angeles</td>\n",
              "      <td>...</td>\n",
              "      <td>90036.0</td>\n",
              "      <td>West</td>\n",
              "      <td>OFF-LA-10000240</td>\n",
              "      <td>Office Supplies</td>\n",
              "      <td>Fasteners</td>\n",
              "      <td>Self-Adhesive Address Labels for Typewriters b...</td>\n",
              "      <td>14.6200</td>\n",
              "      <td>2</td>\n",
              "      <td>0.00</td>\n",
              "      <td>6.8714</td>\n",
              "    </tr>\n",
              "    <tr>\n",
              "      <th>3</th>\n",
              "      <td>4</td>\n",
              "      <td>US-2019-108966</td>\n",
              "      <td>10/11/2019</td>\n",
              "      <td>10/18/2019</td>\n",
              "      <td>Standard Class</td>\n",
              "      <td>SO-20335</td>\n",
              "      <td>Sean O'Donnell</td>\n",
              "      <td>Consumer</td>\n",
              "      <td>United States</td>\n",
              "      <td>Fort Lauderdale</td>\n",
              "      <td>...</td>\n",
              "      <td>33311.0</td>\n",
              "      <td>West</td>\n",
              "      <td>FUR-TA-10000577</td>\n",
              "      <td>Furniture</td>\n",
              "      <td>Fasteners</td>\n",
              "      <td>Bretford CR4500 Series Slim Rectangular Table</td>\n",
              "      <td>957.5775</td>\n",
              "      <td>5</td>\n",
              "      <td>0.45</td>\n",
              "      <td>-383.0310</td>\n",
              "    </tr>\n",
              "    <tr>\n",
              "      <th>4</th>\n",
              "      <td>5</td>\n",
              "      <td>US-2019-108966</td>\n",
              "      <td>10/11/2019</td>\n",
              "      <td>10/18/2019</td>\n",
              "      <td>Standard Class</td>\n",
              "      <td>SO-20335</td>\n",
              "      <td>Sean O'Donnell</td>\n",
              "      <td>Consumer</td>\n",
              "      <td>United States</td>\n",
              "      <td>Fort Lauderdale</td>\n",
              "      <td>...</td>\n",
              "      <td>33311.0</td>\n",
              "      <td>West</td>\n",
              "      <td>OFF-ST-10000760</td>\n",
              "      <td>Office Supplies</td>\n",
              "      <td>Fasteners</td>\n",
              "      <td>Eldon Fold 'N Roll Cart System</td>\n",
              "      <td>22.3680</td>\n",
              "      <td>2</td>\n",
              "      <td>0.20</td>\n",
              "      <td>2.5164</td>\n",
              "    </tr>\n",
              "  </tbody>\n",
              "</table>\n",
              "<p>5 rows × 21 columns</p>\n",
              "</div>\n",
              "    <div class=\"colab-df-buttons\">\n",
              "\n",
              "  <div class=\"colab-df-container\">\n",
              "    <button class=\"colab-df-convert\" onclick=\"convertToInteractive('df-9be0735a-4f8c-45f0-bced-396e3552698f')\"\n",
              "            title=\"Convert this dataframe to an interactive table.\"\n",
              "            style=\"display:none;\">\n",
              "\n",
              "  <svg xmlns=\"http://www.w3.org/2000/svg\" height=\"24px\" viewBox=\"0 -960 960 960\">\n",
              "    <path d=\"M120-120v-720h720v720H120Zm60-500h600v-160H180v160Zm220 220h160v-160H400v160Zm0 220h160v-160H400v160ZM180-400h160v-160H180v160Zm440 0h160v-160H620v160ZM180-180h160v-160H180v160Zm440 0h160v-160H620v160Z\"/>\n",
              "  </svg>\n",
              "    </button>\n",
              "\n",
              "  <style>\n",
              "    .colab-df-container {\n",
              "      display:flex;\n",
              "      gap: 12px;\n",
              "    }\n",
              "\n",
              "    .colab-df-convert {\n",
              "      background-color: #E8F0FE;\n",
              "      border: none;\n",
              "      border-radius: 50%;\n",
              "      cursor: pointer;\n",
              "      display: none;\n",
              "      fill: #1967D2;\n",
              "      height: 32px;\n",
              "      padding: 0 0 0 0;\n",
              "      width: 32px;\n",
              "    }\n",
              "\n",
              "    .colab-df-convert:hover {\n",
              "      background-color: #E2EBFA;\n",
              "      box-shadow: 0px 1px 2px rgba(60, 64, 67, 0.3), 0px 1px 3px 1px rgba(60, 64, 67, 0.15);\n",
              "      fill: #174EA6;\n",
              "    }\n",
              "\n",
              "    .colab-df-buttons div {\n",
              "      margin-bottom: 4px;\n",
              "    }\n",
              "\n",
              "    [theme=dark] .colab-df-convert {\n",
              "      background-color: #3B4455;\n",
              "      fill: #D2E3FC;\n",
              "    }\n",
              "\n",
              "    [theme=dark] .colab-df-convert:hover {\n",
              "      background-color: #434B5C;\n",
              "      box-shadow: 0px 1px 3px 1px rgba(0, 0, 0, 0.15);\n",
              "      filter: drop-shadow(0px 1px 2px rgba(0, 0, 0, 0.3));\n",
              "      fill: #FFFFFF;\n",
              "    }\n",
              "  </style>\n",
              "\n",
              "    <script>\n",
              "      const buttonEl =\n",
              "        document.querySelector('#df-9be0735a-4f8c-45f0-bced-396e3552698f button.colab-df-convert');\n",
              "      buttonEl.style.display =\n",
              "        google.colab.kernel.accessAllowed ? 'block' : 'none';\n",
              "\n",
              "      async function convertToInteractive(key) {\n",
              "        const element = document.querySelector('#df-9be0735a-4f8c-45f0-bced-396e3552698f');\n",
              "        const dataTable =\n",
              "          await google.colab.kernel.invokeFunction('convertToInteractive',\n",
              "                                                    [key], {});\n",
              "        if (!dataTable) return;\n",
              "\n",
              "        const docLinkHtml = 'Like what you see? Visit the ' +\n",
              "          '<a target=\"_blank\" href=https://colab.research.google.com/notebooks/data_table.ipynb>data table notebook</a>'\n",
              "          + ' to learn more about interactive tables.';\n",
              "        element.innerHTML = '';\n",
              "        dataTable['output_type'] = 'display_data';\n",
              "        await google.colab.output.renderOutput(dataTable, element);\n",
              "        const docLink = document.createElement('div');\n",
              "        docLink.innerHTML = docLinkHtml;\n",
              "        element.appendChild(docLink);\n",
              "      }\n",
              "    </script>\n",
              "  </div>\n",
              "\n",
              "\n",
              "<div id=\"df-c37f9d28-2a82-48aa-8028-ba489af69f21\">\n",
              "  <button class=\"colab-df-quickchart\" onclick=\"quickchart('df-c37f9d28-2a82-48aa-8028-ba489af69f21')\"\n",
              "            title=\"Suggest charts\"\n",
              "            style=\"display:none;\">\n",
              "\n",
              "<svg xmlns=\"http://www.w3.org/2000/svg\" height=\"24px\"viewBox=\"0 0 24 24\"\n",
              "     width=\"24px\">\n",
              "    <g>\n",
              "        <path d=\"M19 3H5c-1.1 0-2 .9-2 2v14c0 1.1.9 2 2 2h14c1.1 0 2-.9 2-2V5c0-1.1-.9-2-2-2zM9 17H7v-7h2v7zm4 0h-2V7h2v10zm4 0h-2v-4h2v4z\"/>\n",
              "    </g>\n",
              "</svg>\n",
              "  </button>\n",
              "\n",
              "<style>\n",
              "  .colab-df-quickchart {\n",
              "      --bg-color: #E8F0FE;\n",
              "      --fill-color: #1967D2;\n",
              "      --hover-bg-color: #E2EBFA;\n",
              "      --hover-fill-color: #174EA6;\n",
              "      --disabled-fill-color: #AAA;\n",
              "      --disabled-bg-color: #DDD;\n",
              "  }\n",
              "\n",
              "  [theme=dark] .colab-df-quickchart {\n",
              "      --bg-color: #3B4455;\n",
              "      --fill-color: #D2E3FC;\n",
              "      --hover-bg-color: #434B5C;\n",
              "      --hover-fill-color: #FFFFFF;\n",
              "      --disabled-bg-color: #3B4455;\n",
              "      --disabled-fill-color: #666;\n",
              "  }\n",
              "\n",
              "  .colab-df-quickchart {\n",
              "    background-color: var(--bg-color);\n",
              "    border: none;\n",
              "    border-radius: 50%;\n",
              "    cursor: pointer;\n",
              "    display: none;\n",
              "    fill: var(--fill-color);\n",
              "    height: 32px;\n",
              "    padding: 0;\n",
              "    width: 32px;\n",
              "  }\n",
              "\n",
              "  .colab-df-quickchart:hover {\n",
              "    background-color: var(--hover-bg-color);\n",
              "    box-shadow: 0 1px 2px rgba(60, 64, 67, 0.3), 0 1px 3px 1px rgba(60, 64, 67, 0.15);\n",
              "    fill: var(--button-hover-fill-color);\n",
              "  }\n",
              "\n",
              "  .colab-df-quickchart-complete:disabled,\n",
              "  .colab-df-quickchart-complete:disabled:hover {\n",
              "    background-color: var(--disabled-bg-color);\n",
              "    fill: var(--disabled-fill-color);\n",
              "    box-shadow: none;\n",
              "  }\n",
              "\n",
              "  .colab-df-spinner {\n",
              "    border: 2px solid var(--fill-color);\n",
              "    border-color: transparent;\n",
              "    border-bottom-color: var(--fill-color);\n",
              "    animation:\n",
              "      spin 1s steps(1) infinite;\n",
              "  }\n",
              "\n",
              "  @keyframes spin {\n",
              "    0% {\n",
              "      border-color: transparent;\n",
              "      border-bottom-color: var(--fill-color);\n",
              "      border-left-color: var(--fill-color);\n",
              "    }\n",
              "    20% {\n",
              "      border-color: transparent;\n",
              "      border-left-color: var(--fill-color);\n",
              "      border-top-color: var(--fill-color);\n",
              "    }\n",
              "    30% {\n",
              "      border-color: transparent;\n",
              "      border-left-color: var(--fill-color);\n",
              "      border-top-color: var(--fill-color);\n",
              "      border-right-color: var(--fill-color);\n",
              "    }\n",
              "    40% {\n",
              "      border-color: transparent;\n",
              "      border-right-color: var(--fill-color);\n",
              "      border-top-color: var(--fill-color);\n",
              "    }\n",
              "    60% {\n",
              "      border-color: transparent;\n",
              "      border-right-color: var(--fill-color);\n",
              "    }\n",
              "    80% {\n",
              "      border-color: transparent;\n",
              "      border-right-color: var(--fill-color);\n",
              "      border-bottom-color: var(--fill-color);\n",
              "    }\n",
              "    90% {\n",
              "      border-color: transparent;\n",
              "      border-bottom-color: var(--fill-color);\n",
              "    }\n",
              "  }\n",
              "</style>\n",
              "\n",
              "  <script>\n",
              "    async function quickchart(key) {\n",
              "      const quickchartButtonEl =\n",
              "        document.querySelector('#' + key + ' button');\n",
              "      quickchartButtonEl.disabled = true;  // To prevent multiple clicks.\n",
              "      quickchartButtonEl.classList.add('colab-df-spinner');\n",
              "      try {\n",
              "        const charts = await google.colab.kernel.invokeFunction(\n",
              "            'suggestCharts', [key], {});\n",
              "      } catch (error) {\n",
              "        console.error('Error during call to suggestCharts:', error);\n",
              "      }\n",
              "      quickchartButtonEl.classList.remove('colab-df-spinner');\n",
              "      quickchartButtonEl.classList.add('colab-df-quickchart-complete');\n",
              "    }\n",
              "    (() => {\n",
              "      let quickchartButtonEl =\n",
              "        document.querySelector('#df-c37f9d28-2a82-48aa-8028-ba489af69f21 button');\n",
              "      quickchartButtonEl.style.display =\n",
              "        google.colab.kernel.accessAllowed ? 'block' : 'none';\n",
              "    })();\n",
              "  </script>\n",
              "</div>\n",
              "\n",
              "    </div>\n",
              "  </div>\n"
            ],
            "application/vnd.google.colaboratory.intrinsic+json": {
              "type": "dataframe",
              "variable_name": "df"
            }
          },
          "metadata": {},
          "execution_count": 2
        }
      ],
      "source": [
        "import pandas as pd\n",
        "\n",
        "# Load the dataset\n",
        "file_path = 'Superstore.xlsx - Orders.csv'\n",
        "df = pd.read_csv(file_path)\n",
        "\n",
        "# Quick overview of the dataset\n",
        "df.info()\n",
        "df.head()\n"
      ]
    },
    {
      "cell_type": "code",
      "source": [
        "# Summary statistics for numerical columns\n",
        "df.describe()\n",
        "\n",
        "# Value counts for categorical columns\n",
        "df['Category'].value_counts()\n"
      ],
      "metadata": {
        "colab": {
          "base_uri": "https://localhost:8080/",
          "height": 209
        },
        "id": "xo0KheGDLYXl",
        "outputId": "5ea99ecc-781c-4891-e3f0-c2661990e396"
      },
      "execution_count": 5,
      "outputs": [
        {
          "output_type": "execute_result",
          "data": {
            "text/plain": [
              "Category\n",
              "Office Supplies    6026\n",
              "Furniture          2121\n",
              "Technology         1847\n",
              "Name: count, dtype: int64"
            ],
            "text/html": [
              "<div>\n",
              "<style scoped>\n",
              "    .dataframe tbody tr th:only-of-type {\n",
              "        vertical-align: middle;\n",
              "    }\n",
              "\n",
              "    .dataframe tbody tr th {\n",
              "        vertical-align: top;\n",
              "    }\n",
              "\n",
              "    .dataframe thead th {\n",
              "        text-align: right;\n",
              "    }\n",
              "</style>\n",
              "<table border=\"1\" class=\"dataframe\">\n",
              "  <thead>\n",
              "    <tr style=\"text-align: right;\">\n",
              "      <th></th>\n",
              "      <th>count</th>\n",
              "    </tr>\n",
              "    <tr>\n",
              "      <th>Category</th>\n",
              "      <th></th>\n",
              "    </tr>\n",
              "  </thead>\n",
              "  <tbody>\n",
              "    <tr>\n",
              "      <th>Office Supplies</th>\n",
              "      <td>6026</td>\n",
              "    </tr>\n",
              "    <tr>\n",
              "      <th>Furniture</th>\n",
              "      <td>2121</td>\n",
              "    </tr>\n",
              "    <tr>\n",
              "      <th>Technology</th>\n",
              "      <td>1847</td>\n",
              "    </tr>\n",
              "  </tbody>\n",
              "</table>\n",
              "</div><br><label><b>dtype:</b> int64</label>"
            ]
          },
          "metadata": {},
          "execution_count": 5
        }
      ]
    },
    {
      "cell_type": "code",
      "source": [
        "# Convert 'Order Date' to datetime\n",
        "df['Order Date'] = pd.to_datetime(df['Order Date'])\n",
        "\n",
        "# Group by month and year for sales trends\n",
        "monthly_sales = df.groupby(df['Order Date'].dt.to_period('M'))['Sales'].sum()\n",
        "\n",
        "# Plot the sales trend\n",
        "import matplotlib.pyplot as plt\n",
        "\n",
        "monthly_sales.plot(kind='line', figsize=(10,6), title='Sales Trend Over Time')\n",
        "plt.xlabel('Date')\n",
        "plt.ylabel('Sales')\n",
        "plt.show()\n"
      ],
      "metadata": {
        "colab": {
          "base_uri": "https://localhost:8080/",
          "height": 534
        },
        "id": "qv6J2pFxLdpd",
        "outputId": "b47d14c7-465a-402a-c044-89ea028d3ee5"
      },
      "execution_count": 6,
      "outputs": [
        {
          "output_type": "display_data",
          "data": {
            "text/plain": [
              "<Figure size 1000x600 with 1 Axes>"
            ],
            "image/png": "[encoded data removed]"
          },
          "metadata": {}
        }
      ]
    },
    {
      "cell_type": "code",
      "source": [
        "# Calculate total sales per customer\n",
        "clv = df.groupby('Customer Name')['Sales'].sum().sort_values(ascending=False)\n",
        "clv.head(10)\n"
      ],
      "metadata": {
        "colab": {
          "base_uri": "https://localhost:8080/",
          "height": 429
        },
        "id": "nZMS1qZ3MU6O",
        "outputId": "1baee353-8a63-4e93-80d8-52958823f4de"
      },
      "execution_count": 7,
      "outputs": [
        {
          "output_type": "execute_result",
          "data": {
            "text/plain": [
              "Customer Name\n",
              "Sean Miller           25043.050\n",
              "Tamara Chand          19052.218\n",
              "Raymond Buch          15117.339\n",
              "Tom Ashbrook          14595.620\n",
              "Adrian Barton         14473.571\n",
              "Ken Lonsdale          14175.229\n",
              "Sanjit Chand          14142.334\n",
              "Hunter Lopez          12873.298\n",
              "Sanjit Engle          12209.438\n",
              "Christopher Conant    12129.072\n",
              "Name: Sales, dtype: float64"
            ],
            "text/html": [
              "<div>\n",
              "<style scoped>\n",
              "    .dataframe tbody tr th:only-of-type {\n",
              "        vertical-align: middle;\n",
              "    }\n",
              "\n",
              "    .dataframe tbody tr th {\n",
              "        vertical-align: top;\n",
              "    }\n",
              "\n",
              "    .dataframe thead th {\n",
              "        text-align: right;\n",
              "    }\n",
              "</style>\n",
              "<table border=\"1\" class=\"dataframe\">\n",
              "  <thead>\n",
              "    <tr style=\"text-align: right;\">\n",
              "      <th></th>\n",
              "      <th>Sales</th>\n",
              "    </tr>\n",
              "    <tr>\n",
              "      <th>Customer Name</th>\n",
              "      <th></th>\n",
              "    </tr>\n",
              "  </thead>\n",
              "  <tbody>\n",
              "    <tr>\n",
              "      <th>Sean Miller</th>\n",
              "      <td>25043.050</td>\n",
              "    </tr>\n",
              "    <tr>\n",
              "      <th>Tamara Chand</th>\n",
              "      <td>19052.218</td>\n",
              "    </tr>\n",
              "    <tr>\n",
              "      <th>Raymond Buch</th>\n",
              "      <td>15117.339</td>\n",
              "    </tr>\n",
              "    <tr>\n",
              "      <th>Tom Ashbrook</th>\n",
              "      <td>14595.620</td>\n",
              "    </tr>\n",
              "    <tr>\n",
              "      <th>Adrian Barton</th>\n",
              "      <td>14473.571</td>\n",
              "    </tr>\n",
              "    <tr>\n",
              "      <th>Ken Lonsdale</th>\n",
              "      <td>14175.229</td>\n",
              "    </tr>\n",
              "    <tr>\n",
              "      <th>Sanjit Chand</th>\n",
              "      <td>14142.334</td>\n",
              "    </tr>\n",
              "    <tr>\n",
              "      <th>Hunter Lopez</th>\n",
              "      <td>12873.298</td>\n",
              "    </tr>\n",
              "    <tr>\n",
              "      <th>Sanjit Engle</th>\n",
              "      <td>12209.438</td>\n",
              "    </tr>\n",
              "    <tr>\n",
              "      <th>Christopher Conant</th>\n",
              "      <td>12129.072</td>\n",
              "    </tr>\n",
              "  </tbody>\n",
              "</table>\n",
              "</div><br><label><b>dtype:</b> float64</label>"
            ]
          },
          "metadata": {},
          "execution_count": 7
        }
      ]
    },
    {
      "cell_type": "code",
      "source": [
        "# Calculate total profit by region\n",
        "region_profit = df.groupby('Region')['Profit'].sum().sort_values(ascending=False)\n",
        "\n",
        "# Plot regional profitability\n",
        "region_profit.plot(kind='bar', figsize=(8,6), title='Profitability by Region')\n",
        "plt.xlabel('Region')\n",
        "plt.ylabel('Total Profit')\n",
        "plt.show()\n"
      ],
      "metadata": {
        "colab": {
          "base_uri": "https://localhost:8080/",
          "height": 601
        },
        "id": "uT2FryQfNCnU",
        "outputId": "1c2e899b-c9af-45e5-bbf7-94122712a5e4"
      },
      "execution_count": 8,
      "outputs": [
        {
          "output_type": "display_data",
          "data": {
            "text/plain": [
              "<Figure size 800x600 with 1 Axes>"
            ],
            "image/png": "[encoded data removed]"
          },
          "metadata": {}
        }
      ]
    },
    {
      "cell_type": "code",
      "source": [
        "# Calculate moving average for sales (3 months window)\n",
        "df.set_index('Order Date', inplace=True)\n",
        "df['Sales_MA'] = df['Sales'].rolling(window=3).mean()\n",
        "\n",
        "# Plot sales and moving average\n",
        "df[['Sales', 'Sales_MA']].plot(figsize=(10,6), title='Sales and 3-Month Moving Average')\n",
        "plt.xlabel('Date')\n",
        "plt.ylabel('Sales')\n",
        "plt.show()\n"
      ],
      "metadata": {
        "colab": {
          "base_uri": "https://localhost:8080/",
          "height": 499
        },
        "id": "i-cX92CqNiRQ",
        "outputId": "0a226b69-c142-40a2-c9b3-72c5bbd62f57"
      },
      "execution_count": 9,
      "outputs": [
        {
          "output_type": "display_data",
          "data": {
            "text/plain": [
              "<Figure size 1000x600 with 1 Axes>"
            ],
            "image/png": "[encoded data removed]"
          },
          "metadata": {}
        }
      ]
    },
    {
      "cell_type": "code",
      "source": [
        "# First, convert 'Order Date' to datetime\n",
        "df['Order Date'] = pd.to_datetime(df['Order Date'])\n",
        "\n",
        "# Group by the month and year, then calculate total sales\n",
        "monthly_sales_trend = df.groupby(df['Order Date'].dt.to_period('M'))['Sales'].sum().reset_index().sort_values(by='Order Date')\n",
        "print(monthly_sales_trend)\n"
      ],
      "metadata": {
        "colab": {
          "base_uri": "https://localhost:8080/"
        },
        "id": "vadaStX-Nj1i",
        "outputId": "cb99d55a-ada9-435c-de07-482bc39fb7d3"
      },
      "execution_count": null,
      "outputs": [
        {
          "output_type": "stream",
          "name": "stdout",
          "text": [
            "   Order Date        Sales\n",
            "0     2019-01   18174.0756\n",
            "1     2019-02   11951.4110\n",
            "2     2019-03   38726.2520\n",
            "3     2019-04   34195.2085\n",
            "4     2019-05   30131.6865\n",
            "5     2019-06   24797.2920\n",
            "6     2019-07   28765.3250\n",
            "7     2019-08   36898.3322\n",
            "8     2019-09   64595.9180\n",
            "9     2019-10   31404.9235\n",
            "10    2019-11   75972.5635\n",
            "11    2019-12   74919.5212\n",
            "12    2020-01   18542.4910\n",
            "13    2020-02   22978.8150\n",
            "14    2020-03   51715.8750\n",
            "15    2020-04   38750.0390\n",
            "16    2020-05   56987.7280\n",
            "17    2020-06   40344.5340\n",
            "18    2020-07   39261.9630\n",
            "19    2020-08   31115.3743\n",
            "20    2020-09   73410.0249\n",
            "21    2020-10   59687.7450\n",
            "22    2020-11   79150.0058\n",
            "23    2020-12   96999.0430\n",
            "24    2021-01   43971.3740\n",
            "25    2021-02   20301.1334\n",
            "26    2021-03   58872.3528\n",
            "27    2021-04   36521.5361\n",
            "28    2021-05   44261.1102\n",
            "29    2021-06   52981.7257\n",
            "30    2021-07   45264.4160\n",
            "31    2021-08   63120.8880\n",
            "32    2021-09   87866.6520\n",
            "33    2021-10   77776.9232\n",
            "34    2021-11  118447.8250\n",
            "35    2021-12   83829.3188\n",
            "36    2022-01   14236.8950\n",
            "37    2022-02    4519.8920\n",
            "38    2022-03   55952.9690\n",
            "39    2022-04   28295.3450\n",
            "40    2022-05   23648.2870\n",
            "41    2022-06   34595.1276\n",
            "42    2022-07   33946.3930\n",
            "43    2022-08   27909.4685\n",
            "44    2022-09   81777.3508\n",
            "45    2022-10   31453.3930\n",
            "46    2022-11   78628.7167\n",
            "47    2022-12   69545.6205\n"
          ]
        }
      ]
    },
    {
      "cell_type": "code",
      "source": [
        "# Group by Customer ID and calculate total sales (CLTV)\n",
        "cltv = df.groupby(['Customer ID', 'Customer Name'])['Sales'].sum().reset_index().sort_values(by='Sales', ascending=False)\n",
        "print(cltv.head())\n"
      ],
      "metadata": {
        "colab": {
          "base_uri": "https://localhost:8080/"
        },
        "id": "K2r6uz0zNl2T",
        "outputId": "2171f896-1f76-4929-fa70-131e6d585235"
      },
      "execution_count": null,
      "outputs": [
        {
          "output_type": "stream",
          "name": "stdout",
          "text": [
            "    Customer ID  Customer Name      Sales\n",
            "700    SM-20320    Sean Miller  25043.050\n",
            "741    TC-20980   Tamara Chand  19052.218\n",
            "621    RB-19360   Raymond Buch  15117.339\n",
            "730    TA-21385   Tom Ashbrook  14595.620\n",
            "6      AB-10105  Adrian Barton  14473.571\n"
          ]
        }
      ]
    },
    {
      "cell_type": "code",
      "source": [
        "# Create a profit margin column\n",
        "df['Profit Margin'] = df['Profit'] / df['Sales']\n",
        "\n",
        "# Group by Product Name and find the top 5 with the highest profit margin\n",
        "top_profit_margin_products = df.groupby('Product Name')['Profit Margin'].mean().reset_index().sort_values(by='Profit Margin', ascending=False).head(5)\n",
        "print(top_profit_margin_products)\n"
      ],
      "metadata": {
        "colab": {
          "base_uri": "https://localhost:8080/"
        },
        "id": "66MPrLzlNuYR",
        "outputId": "0f524b0f-96e8-45df-8a30-97eb230d92dd"
      },
      "execution_count": null,
      "outputs": [
        {
          "output_type": "stream",
          "name": "stdout",
          "text": [
            "                                           Product Name  Profit Margin\n",
            "1566             Tops Green Bar Computer Printout Paper            0.5\n",
            "405   Canon imageCLASS MF7460 Monochrome Digital Las...            0.5\n",
            "1473                   Southworth Structures Collection            0.5\n",
            "109   Adams Telephone Message Book w/Frequently-Call...            0.5\n",
            "1672                                         Xerox 1890            0.5\n"
          ]
        }
      ]
    },
    {
      "cell_type": "code",
      "source": [
        "# Create a profit margin column\n",
        "df['Profit Margin'] = df['Profit'] / df['Sales']\n",
        "\n",
        "# Group by Product Name and find the top 5 with the highest profit margin\n",
        "top_profit_margin_products = df.groupby('Product Name')['Profit Margin'].mean().reset_index().sort_values(by='Profit Margin', ascending=False).head(5)\n",
        "print(top_profit_margin_products)\n"
      ],
      "metadata": {
        "colab": {
          "base_uri": "https://localhost:8080/"
        },
        "id": "ZmhGq43kNvll",
        "outputId": "ef631773-8b89-46f2-b1a6-d7f1f26b7555"
      },
      "execution_count": null,
      "outputs": [
        {
          "output_type": "stream",
          "name": "stdout",
          "text": [
            "                                           Product Name  Profit Margin\n",
            "1566             Tops Green Bar Computer Printout Paper            0.5\n",
            "405   Canon imageCLASS MF7460 Monochrome Digital Las...            0.5\n",
            "1473                   Southworth Structures Collection            0.5\n",
            "109   Adams Telephone Message Book w/Frequently-Call...            0.5\n",
            "1672                                         Xerox 1890            0.5\n"
          ]
        }
      ]
    },
    {
      "cell_type": "code",
      "source": [
        "# Count the number of orders per customer\n",
        "customer_order_count = df.groupby(['Customer ID', 'Customer Name'])['Order ID'].nunique().reset_index().sort_values(by='Order ID', ascending=False).head(10)\n",
        "print(customer_order_count)\n"
      ],
      "metadata": {
        "colab": {
          "base_uri": "https://localhost:8080/"
        },
        "id": "B5H-rGNzNw0k",
        "outputId": "396cc5f8-2964-4c72-9332-fafd31e1de2e"
      },
      "execution_count": null,
      "outputs": [
        {
          "output_type": "stream",
          "name": "stdout",
          "text": [
            "    Customer ID        Customer Name  Order ID\n",
            "275    EP-13915           Emily Phan        17\n",
            "791    ZC-21910     Zuschuss Carroll        13\n",
            "147    CK-12205  Chloris Kastensmidt        13\n",
            "691    SH-19975        Sally Hughsby        13\n",
            "356    JE-15745           Joel Eaton        13\n",
            "245    EA-14035        Erin Ashbrook        13\n",
            "591    PG-18820      Patrick Gardner        13\n",
            "576    NS-18640         Noel Staavos        13\n",
            "694    SJ-20125        Sanjit Jacobs        12\n",
            "257    EH-13765         Edward Hooks        12\n"
          ]
        }
      ]
    },
    {
      "cell_type": "code",
      "source": [
        "shipping_profit = df.groupby('Ship Mode')['Profit'].sum().reset_index().sort_values(by='Profit', ascending=False)\n",
        "print(shipping_profit)\n"
      ],
      "metadata": {
        "id": "1O8cIIJINzI7",
        "colab": {
          "base_uri": "https://localhost:8080/"
        },
        "outputId": "d4cf6060-465d-480a-9302-f7057863b186"
      },
      "execution_count": null,
      "outputs": [
        {
          "output_type": "stream",
          "name": "stdout",
          "text": [
            "        Ship Mode       Profit\n",
            "3  Standard Class  164088.7875\n",
            "2    Second Class   57446.6354\n",
            "0     First Class   48969.8399\n",
            "1        Same Day   15891.7589\n"
          ]
        }
      ]
    },
    {
      "cell_type": "code",
      "source": [
        "# Total sales and profit per product category\n",
        "category_sales_profit = df.groupby('Category').agg({\n",
        "    'Sales': 'sum',\n",
        "    'Profit': 'sum'\n",
        "}).sort_values(by='Sales', ascending=False)\n",
        "\n",
        "print(category_sales_profit)\n"
      ],
      "metadata": {
        "id": "PY9Jr3qdT-c6",
        "colab": {
          "base_uri": "https://localhost:8080/"
        },
        "outputId": "60464878-435d-4567-be60-0bab37f10769"
      },
      "execution_count": 10,
      "outputs": [
        {
          "output_type": "stream",
          "name": "stdout",
          "text": [
            "                       Sales       Profit\n",
            "Category                                 \n",
            "Technology       836154.0330  145454.9481\n",
            "Furniture        741999.7953   18451.2728\n",
            "Office Supplies  719047.0320  122490.8008\n"
          ]
        }
      ]
    },
    {
      "cell_type": "code",
      "source": [
        "# Top 10 customers by total sales\n",
        "top_customers = df.groupby('Customer Name')['Sales'].sum().sort_values(ascending=False).head(10)\n",
        "\n",
        "print(top_customers)\n"
      ],
      "metadata": {
        "colab": {
          "base_uri": "https://localhost:8080/"
        },
        "id": "hNJwA0nxMG2K",
        "outputId": "76f2c121-05b2-444c-9e5d-6bb6e561a2fd"
      },
      "execution_count": 11,
      "outputs": [
        {
          "output_type": "stream",
          "name": "stdout",
          "text": [
            "Customer Name\n",
            "Sean Miller           25043.050\n",
            "Tamara Chand          19052.218\n",
            "Raymond Buch          15117.339\n",
            "Tom Ashbrook          14595.620\n",
            "Adrian Barton         14473.571\n",
            "Ken Lonsdale          14175.229\n",
            "Sanjit Chand          14142.334\n",
            "Hunter Lopez          12873.298\n",
            "Sanjit Engle          12209.438\n",
            "Christopher Conant    12129.072\n",
            "Name: Sales, dtype: float64\n"
          ]
        }
      ]
    },
    {
      "cell_type": "code",
      "source": [
        "# Top 10 products by total profit\n",
        "top_products_profit = df.groupby('Product Name')['Profit'].sum().sort_values(ascending=False).head(10)\n",
        "\n",
        "print(top_products_profit)\n"
      ],
      "metadata": {
        "colab": {
          "base_uri": "https://localhost:8080/"
        },
        "id": "rS7yV6W_NBTZ",
        "outputId": "61205922-3755-4542-c620-684798dc4628"
      },
      "execution_count": 12,
      "outputs": [
        {
          "output_type": "stream",
          "name": "stdout",
          "text": [
            "Product Name\n",
            "Canon imageCLASS 2200 Advanced Copier                                          25199.9280\n",
            "Fellowes PB500 Electric Punch Plastic Comb Binding Machine with Manual Bind     7753.0390\n",
            "Hewlett Packard LaserJet 3310 Copier                                            6983.8836\n",
            "Canon PC1060 Personal Laser Copier                                              4570.9347\n",
            "HP Designjet T520 Inkjet Large Format Printer - 24\" Color                       4094.9766\n",
            "Ativa V4110MDD Micro-Cut Shredder                                               3772.9461\n",
            "3D Systems Cube Printer, 2nd Generation, Magenta                                3717.9714\n",
            "Plantronics Savi W720 Multi-Device Wireless Headset System                      3696.2820\n",
            "Ibico EPK-21 Electric Binding System                                            3345.2823\n",
            "Zebra ZM400 Thermal Label Printer                                               3343.5360\n",
            "Name: Profit, dtype: float64\n"
          ]
        }
      ]
    },
    {
      "cell_type": "code",
      "source": [
        "# Sales and profit by ship mode\n",
        "ship_mode_analysis = df.groupby('Ship Mode').agg({\n",
        "    'Sales': 'sum',\n",
        "    'Profit': 'sum'\n",
        "}).sort_values(by='Sales', ascending=False)\n",
        "\n",
        "print(ship_mode_analysis)\n"
      ],
      "metadata": {
        "colab": {
          "base_uri": "https://localhost:8080/"
        },
        "id": "YERD0jV7NIFf",
        "outputId": "c902fb79-282c-4017-c647-489f62487dfe"
      },
      "execution_count": 13,
      "outputs": [
        {
          "output_type": "stream",
          "name": "stdout",
          "text": [
            "                       Sales       Profit\n",
            "Ship Mode                                \n",
            "Standard Class  1.358216e+06  164088.7875\n",
            "Second Class    4.591936e+05   57446.6354\n",
            "First Class     3.514284e+05   48969.8399\n",
            "Same Day        1.283631e+05   15891.7589\n"
          ]
        }
      ]
    },
    {
      "cell_type": "code",
      "source": [
        "# Sales by region\n",
        "sales_by_region = df.groupby('Region')['Sales'].sum().sort_values(ascending=False)\n",
        "\n",
        "print(sales_by_region)\n"
      ],
      "metadata": {
        "colab": {
          "base_uri": "https://localhost:8080/"
        },
        "id": "H0fUuEkuNb-W",
        "outputId": "a6e1a275-e082-4c3b-8b0f-40cc0cdeeff9"
      },
      "execution_count": 14,
      "outputs": [
        {
          "output_type": "stream",
          "name": "stdout",
          "text": [
            "Region\n",
            "West       728012.4500\n",
            "East       678694.1400\n",
            "Central    501073.1008\n",
            "South      389421.1695\n",
            "Name: Sales, dtype: float64\n"
          ]
        }
      ]
    },
    {
      "cell_type": "code",
      "source": [
        "# Step 1: Install required libraries\n",
        "!pip install pandas sqlite3\n",
        "\n",
        "# Step 2: Import libraries\n",
        "import pandas as pd\n",
        "import sqlite3\n",
        "\n",
        "# Step 3: Create a SQLite database connection\n",
        "conn = sqlite3.connect(':memory:')  # In-memory database\n",
        "\n",
        "# Step 4: Load your dataset (adjust the path as needed)\n",
        "df = pd.read_csv('/content/Superstore.xlsx - Orders.csv')\n",
        "\n",
        "# Step 5: Write DataFrame to SQL\n",
        "df.to_sql('orders', conn, index=False, if_exists='replace')\n",
        "\n",
        "# Execute a SQL query\n",
        "query = \"\"\"SELECT\n",
        "    Category,\n",
        "    SUM(Sales) AS total_sales\n",
        "FROM\n",
        "    orders\n",
        "GROUP BY\n",
        "    Category\n",
        "ORDER BY\n",
        "    total_sales DESC\"\"\"  # Replace with your actual SQL query\n",
        "result = pd.read_sql(query, conn)\n",
        "\n",
        "# Display the result\n",
        "print(result)\n"
      ],
      "metadata": {
        "colab": {
          "base_uri": "https://localhost:8080/"
        },
        "id": "tbI65QeiSF7m",
        "outputId": "52720d1e-05a1-4e9c-b979-4088638f430c"
      },
      "execution_count": 18,
      "outputs": [
        {
          "output_type": "stream",
          "name": "stdout",
          "text": [
            "Requirement already satisfied: pandas in /usr/local/lib/python3.10/dist-packages (2.1.4)\n",
            "\u001b[31mERROR: Could not find a version that satisfies the requirement sqlite3 (from versions: none)\u001b[0m\u001b[31m\n",
            "\u001b[0m\u001b[31mERROR: No matching distribution found for sqlite3\u001b[0m\u001b[31m\n",
            "\u001b[0m          Category  total_sales\n",
            "0       Technology  836154.0330\n",
            "1        Furniture  741999.7953\n",
            "2  Office Supplies  719047.0320\n"
          ]
        }
      ]
    },
    {
      "cell_type": "code",
      "source": [
        "query = \"\"\"\n",
        "SELECT\n",
        "    Region,\n",
        "    AVG(Discount) AS average_discount\n",
        "FROM\n",
        "    orders\n",
        "GROUP BY\n",
        "    Region\n",
        "ORDER BY\n",
        "    average_discount DESC\n",
        "\"\"\"\n",
        "result = pd.read_sql(query, conn)\n",
        "print(result)\n"
      ],
      "metadata": {
        "colab": {
          "base_uri": "https://localhost:8080/"
        },
        "id": "M_zGZ9RVSYZt",
        "outputId": "afe39185-b915-4c68-e7ae-5ff2391b98a3"
      },
      "execution_count": 19,
      "outputs": [
        {
          "output_type": "stream",
          "name": "stdout",
          "text": [
            "    Region  average_discount\n",
            "0  Central          0.240215\n",
            "1    South          0.147333\n",
            "2     East          0.145467\n",
            "3     West          0.109502\n"
          ]
        }
      ]
    },
    {
      "cell_type": "code",
      "source": [
        "query = \"\"\"SELECT\n",
        "    City,\n",
        "    AVG(Discount) AS average_discount\n",
        "FROM\n",
        "    orders\n",
        "GROUP BY\n",
        "    City\n",
        "ORDER BY\n",
        "    average_discount DESC\n",
        "LIMIT 10;\"\"\"\n",
        "result = pd.read_sql(query, conn)\n",
        "print(result)"
      ],
      "metadata": {
        "colab": {
          "base_uri": "https://localhost:8080/"
        },
        "id": "RwcB4JH4eykI",
        "outputId": "04519097-ac73-476d-c4ed-db0f04a8a902"
      },
      "execution_count": 31,
      "outputs": [
        {
          "output_type": "stream",
          "name": "stdout",
          "text": [
            "            City  average_discount\n",
            "0     Romeoville          0.800000\n",
            "1  Missouri City          0.800000\n",
            "2      Deer Park          0.800000\n",
            "3        Abilene          0.800000\n",
            "4      Pensacola          0.700000\n",
            "5   Ormond Beach          0.700000\n",
            "6      Littleton          0.700000\n",
            "7         Elyria          0.700000\n",
            "8          Tyler          0.640000\n",
            "9          Bryan          0.616667\n"
          ]
        }
      ]
    },
    {
      "cell_type": "code",
      "source": [
        "query = \"\"\"SELECT\n",
        "    City,\n",
        "    SUM(Sales) AS total_sales\n",
        "FROM\n",
        "    orders\n",
        "GROUP BY\n",
        "    City\n",
        "ORDER BY\n",
        "    total_sales DESC\n",
        "LIMIT 5;\n",
        "\"\"\"\n",
        "result = pd.read_sql(query, conn)\n",
        "print(result)"
      ],
      "metadata": {
        "colab": {
          "base_uri": "https://localhost:8080/"
        },
        "id": "tKbR7EljftbB",
        "outputId": "049bff43-9e87-4c68-af0a-e291a0d69a76"
      },
      "execution_count": 32,
      "outputs": [
        {
          "output_type": "stream",
          "name": "stdout",
          "text": [
            "            City  total_sales\n",
            "0  New York City   256368.161\n",
            "1    Los Angeles   175851.341\n",
            "2        Seattle   119540.742\n",
            "3  San Francisco   112669.092\n",
            "4   Philadelphia   109077.013\n"
          ]
        }
      ]
    },
    {
      "cell_type": "code",
      "source": [
        "query = \"\"\"SELECT\n",
        "    Discount,\n",
        "    SUM(Sales) AS total_sales\n",
        "FROM\n",
        "    orders\n",
        "GROUP BY\n",
        "    Discount\n",
        "ORDER BY\n",
        "    Discount DESC;\n",
        "\n",
        "\"\"\"\n",
        "result = pd.read_sql(query, conn)\n",
        "print(result)"
      ],
      "metadata": {
        "colab": {
          "base_uri": "https://localhost:8080/"
        },
        "id": "tHW9ZcRff9gg",
        "outputId": "e30d6362-b440-4fe9-ebaa-9310f7bc0c10"
      },
      "execution_count": 34,
      "outputs": [
        {
          "output_type": "stream",
          "name": "stdout",
          "text": [
            "    Discount   total_sales\n",
            "0       0.80  1.696376e+04\n",
            "1       0.70  4.062028e+04\n",
            "2       0.60  6.644700e+03\n",
            "3       0.50  5.891854e+04\n",
            "4       0.45  5.484974e+03\n",
            "5       0.40  1.164178e+05\n",
            "6       0.32  1.449346e+04\n",
            "7       0.30  1.032267e+05\n",
            "8       0.20  7.645944e+05\n",
            "9       0.15  2.755852e+04\n",
            "10      0.10  5.436935e+04\n",
            "11      0.00  1.087908e+06\n"
          ]
        }
      ]
    },
    {
      "cell_type": "code",
      "source": [],
      "metadata": {
        "id": "QDsulMnwgVHf"
      },
      "execution_count": null,
      "outputs": []
    }
  ]
}